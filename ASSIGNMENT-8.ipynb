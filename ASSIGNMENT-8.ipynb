{
 "cells": [
  {
   "cell_type": "code",
   "execution_count": 1,
   "id": "9dc0bc3d-1462-420d-9a59-7ec3bac3e0a6",
   "metadata": {},
   "outputs": [
    {
     "name": "stdout",
     "output_type": "stream",
     "text": [
      "Requirement already satisfied: python-nmap in c:\\users\\suran\\anaconda3\\lib\\site-packages (0.7.1)\n",
      "Note: you may need to restart the kernel to use updated packages.\n"
     ]
    }
   ],
   "source": [
    "pip install python-nmap\n"
   ]
  },
  {
   "cell_type": "markdown",
   "id": "5563c878-a836-4115-874c-a04676db9085",
   "metadata": {},
   "source": [
    "## 1. Write the Python NMAP script to scan a target."
   ]
  },
  {
   "cell_type": "code",
   "execution_count": 2,
   "id": "818ff641-06c8-47dd-b8d9-4c210d9c1222",
   "metadata": {},
   "outputs": [
    {
     "name": "stdin",
     "output_type": "stream",
     "text": [
      "Enter target IP address or hostname:  scanme.nmap.org\n"
     ]
    },
    {
     "name": "stdout",
     "output_type": "stream",
     "text": [
      "----------------------------------------------------\n",
      "Host : 45.33.32.156 (scanme.nmap.org)\n",
      "State : up\n",
      "----------\n",
      "Protocol : tcp\n",
      "port : 22\tstate : open\tservice : ssh\n",
      "port : 80\tstate : open\tservice : http\n",
      "port : 139\tstate : filtered\tservice : netbios-ssn\n",
      "port : 445\tstate : filtered\tservice : microsoft-ds\n",
      "port : 9929\tstate : open\tservice : nping-echo\n",
      "port : 31337\tstate : open\tservice : tcpwrapped\n"
     ]
    }
   ],
   "source": [
    "import nmap\n",
    "\n",
    "def basic_nmap_scan(target):\n",
    "    nm = nmap.PortScanner()\n",
    "    nm.scan(hosts=target)  \n",
    "\n",
    "    for host in nm.all_hosts():\n",
    "        print('----------------------------------------------------')\n",
    "        print(f'Host : {host} ({nm[host].hostname()})')\n",
    "        print('State : %s' % nm[host].state())\n",
    "\n",
    "        for proto in nm[host].all_protocols():\n",
    "            print('----------')\n",
    "            print(f'Protocol : {proto}')\n",
    "\n",
    "            lport = nm[host][proto].keys()\n",
    "            sorted_ports = sorted(lport)\n",
    "            for port in sorted_ports:\n",
    "                print(f'port : {port}\\tstate : {nm[host][proto][port][\"state\"]}\\tservice : {nm[host][proto][port][\"name\"]}')\n",
    "\n",
    "if __name__ == \"__main__\":\n",
    "    target = input(\"Enter target IP address or hostname: \")\n",
    "    basic_nmap_scan(target)\n"
   ]
  },
  {
   "cell_type": "markdown",
   "id": "127bde26-c90c-4a99-a8fe-f1d554dd8848",
   "metadata": {},
   "source": [
    "## 2. Write the Python NMAP script to perform ping scan on a target."
   ]
  },
  {
   "cell_type": "code",
   "execution_count": 1,
   "id": "cb2ca379-bd8d-4b13-9988-57ad8b8ce31d",
   "metadata": {},
   "outputs": [
    {
     "name": "stdin",
     "output_type": "stream",
     "text": [
      "Enter target IP address or hostname:  scanme.nmap.org\n"
     ]
    },
    {
     "name": "stdout",
     "output_type": "stream",
     "text": [
      "Hosts found:\n",
      "Host: 45.33.32.156\tStatus: up\n"
     ]
    }
   ],
   "source": [
    "import nmap\n",
    "\n",
    "def ping_scan(target):\n",
    "    nm = nmap.PortScanner()\n",
    "    nm.scan(hosts=target, arguments='-sP')  # -sP for ping scan\n",
    "\n",
    "    hosts_list = [(x, nm[x]['status']['state']) for x in nm.all_hosts()]\n",
    "\n",
    "    print(\"Hosts found:\")\n",
    "    for host, status in hosts_list:\n",
    "        print(f\"Host: {host}\\tStatus: {status}\")\n",
    "\n",
    "if __name__ == \"__main__\":\n",
    "    target = input(\"Enter target IP address or hostname: \")\n",
    "    ping_scan(target)\n"
   ]
  },
  {
   "cell_type": "markdown",
   "id": "fdd2d338-8230-4da9-a38e-ede32e13646c",
   "metadata": {},
   "source": [
    "## 3. Write the Python NMAP script to perform no ping scan on a target."
   ]
  },
  {
   "cell_type": "code",
   "execution_count": 1,
   "id": "af59b537-e015-4192-8b60-a721d09242d6",
   "metadata": {},
   "outputs": [
    {
     "name": "stdin",
     "output_type": "stream",
     "text": [
      "Enter target IP address or hostname:  scanme.nmap.org\n"
     ]
    },
    {
     "name": "stdout",
     "output_type": "stream",
     "text": [
      "----------------------------------------------------\n",
      "Host : 45.33.32.156 (scanme.nmap.org)\n",
      "State : up\n"
     ]
    }
   ],
   "source": [
    "import nmap\n",
    "\n",
    "def ping_scan(target):\n",
    "    nm = nmap.PortScanner()\n",
    "    nm.scan(hosts=target, arguments='-sn')  # -sn for ping scan only\n",
    "\n",
    "    for host in nm.all_hosts():\n",
    "        print('----------------------------------------------------')\n",
    "        print(f'Host : {host} ({nm[host].hostname()})')\n",
    "        print('State : %s' % nm[host].state())\n",
    "\n",
    "if __name__ == \"__main__\":\n",
    "    target = input(\"Enter target IP address or hostname: \")\n",
    "    ping_scan(target)\n"
   ]
  },
  {
   "cell_type": "markdown",
   "id": "0821ce2e-6299-4b46-8dc1-b1a8a05ba7ce",
   "metadata": {},
   "source": [
    "## 4. Write the Python NMAP script to perform scan on specific ports a target."
   ]
  },
  {
   "cell_type": "code",
   "execution_count": 2,
   "id": "d24a0e68-3f79-4b47-bdf0-7eca77f08393",
   "metadata": {},
   "outputs": [
    {
     "name": "stdin",
     "output_type": "stream",
     "text": [
      "Enter target IP address or hostname:  scanme.nmap.org\n",
      "Enter port numbers (separated by commas):  80,443\n"
     ]
    },
    {
     "name": "stdout",
     "output_type": "stream",
     "text": [
      "----------------------------------------------------\n",
      "Host : 45.33.32.156 (scanme.nmap.org)\n",
      "State : up\n",
      "----------\n",
      "Protocol : tcp\n",
      "port : 80\tstate : open\tservice : http\n",
      "port : 443\tstate : closed\tservice : https\n"
     ]
    }
   ],
   "source": [
    "import nmap\n",
    "\n",
    "def nmap_port_scan(target, port_numbers):\n",
    "    nm = nmap.PortScanner()\n",
    "    port_range = ','.join(str(port) for port in port_numbers)\n",
    "    nm.scan(hosts=target, arguments=f'-p {port_range}')\n",
    "\n",
    "    for host in nm.all_hosts():\n",
    "        print('----------------------------------------------------')\n",
    "        print(f'Host : {host} ({nm[host].hostname()})')\n",
    "        print('State : %s' % nm[host].state())\n",
    "\n",
    "        for proto in nm[host].all_protocols():\n",
    "            print('----------')\n",
    "            print(f'Protocol : {proto}')\n",
    "\n",
    "            lport = nm[host][proto].keys()\n",
    "            sorted_ports = sorted(lport)\n",
    "            for port in sorted_ports:\n",
    "                print(f'port : {port}\\tstate : {nm[host][proto][port][\"state\"]}\\tservice : {nm[host][proto][port][\"name\"]}')\n",
    "\n",
    "if __name__ == \"__main__\":\n",
    "    target = input(\"Enter target IP address or hostname: \")\n",
    "    ports = input(\"Enter port numbers (separated by commas): \").split(',')\n",
    "    port_numbers = [int(port.strip()) for port in ports]\n",
    "    nmap_port_scan(target, port_numbers)\n"
   ]
  },
  {
   "cell_type": "markdown",
   "id": "ab126f05-e4c4-4dfb-acf7-b1df30ea3e22",
   "metadata": {},
   "source": [
    "## 6. Write the Python NMAP script to perform scan the most common 100 ports."
   ]
  },
  {
   "cell_type": "code",
   "execution_count": 3,
   "id": "207af205-366d-4f40-8bab-9100e46827ec",
   "metadata": {},
   "outputs": [
    {
     "name": "stdin",
     "output_type": "stream",
     "text": [
      "Enter target IP address or hostname:  scanme.nmap.org\n"
     ]
    },
    {
     "name": "stdout",
     "output_type": "stream",
     "text": [
      "----------------------------------------------------\n",
      "Host : 45.33.32.156 (scanme.nmap.org)\n",
      "State : up\n",
      "----------\n",
      "Protocol : tcp\n",
      "port : 22\tstate :open\tservice : ssh\n",
      "port : 80\tstate :open\tservice : http\n",
      "port : 139\tstate :filtered\tservice : netbios-ssn\n",
      "port : 445\tstate :filtered\tservice : microsoft-ds\n"
     ]
    }
   ],
   "source": [
    "import nmap\n",
    "def fast_nmap_scan(target):\n",
    "    nm = nmap.PortScanner()\n",
    "    nm.scan(hosts=target, arguments='-F') # -F for fast scan\n",
    "    for host in nm.all_hosts():\n",
    "        print('----------------------------------------------------')\n",
    "        print(f'Host : {host} ({nm[host].hostname()})')\n",
    "        print('State : %s' % nm[host].state())\n",
    "        for proto in nm[host].all_protocols():\n",
    "            print('----------')\n",
    "            print(f'Protocol : {proto}')\n",
    "            lport = nm[host][proto].keys()\n",
    "            sorted_ports = sorted(lport)\n",
    "            for port in sorted_ports:\n",
    "                print(f'port : {port}\\tstate :{nm[host][proto][port][\"state\"]}\\tservice : {nm[host][proto][port][\"name\"]}')\n",
    "if __name__ == \"__main__\":\n",
    "    target = input(\"Enter target IP address or hostname: \")\n",
    "    fast_nmap_scan(target)"
   ]
  },
  {
   "cell_type": "markdown",
   "id": "d8637752-f709-45ff-84b9-36b914890829",
   "metadata": {},
   "source": [
    "## Python code used to scan all 65,535 ports on the target host."
   ]
  },
  {
   "cell_type": "code",
   "execution_count": 1,
   "id": "cde3a03d-8876-4ba0-b9a6-c6626dfa51f9",
   "metadata": {},
   "outputs": [
    {
     "name": "stdin",
     "output_type": "stream",
     "text": [
      "Enter target IP address or hostname:  google.com\n"
     ]
    },
    {
     "name": "stdout",
     "output_type": "stream",
     "text": [
      "----------------------------------------------------\n",
      "Host : 172.217.166.46 (google.com)\n",
      "State : up\n",
      "----------\n",
      "Protocol : tcp\n",
      "port : 80\tstate :open\tservice : http\n",
      "port : 443\tstate :open\tservice : https\n"
     ]
    }
   ],
   "source": [
    "import nmap\n",
    "def full_port_scan(target):\n",
    "    nm = nmap.PortScanner()\n",
    "    nm.scan(hosts=target, arguments='-p-') # -p- to scan all 65535 ports\n",
    "    for host in nm.all_hosts():\n",
    "        print('----------------------------------------------------')\n",
    "        print(f'Host : {host} ({nm[host].hostname()})')\n",
    "        print('State : %s' % nm[host].state())\n",
    "        for proto in nm[host].all_protocols():\n",
    "            print('----------')\n",
    "            print(f'Protocol : {proto}')\n",
    "            lport = nm[host][proto].keys()\n",
    "            sorted_ports = sorted(lport)\n",
    "            for port in sorted_ports:\n",
    "                print(f'port : {port}\\tstate :{nm[host][proto][port][\"state\"]}\\tservice : {nm[host][proto][port][\"name\"]}')\n",
    "if __name__ == \"__main__\":\n",
    "    target = input(\"Enter target IP address or hostname: \")\n",
    "    full_port_scan(target)"
   ]
  },
  {
   "cell_type": "markdown",
   "id": "2d37de34-4901-442a-998a-e79403afb703",
   "metadata": {},
   "source": [
    "## 7. Write the Python NMAP script to perform scan to identify the services running and\n",
    "their versions."
   ]
  },
  {
   "cell_type": "code",
   "execution_count": 3,
   "id": "3dae17c2-010a-45c3-84bb-9bd166804284",
   "metadata": {},
   "outputs": [
    {
     "name": "stdin",
     "output_type": "stream",
     "text": [
      "Enter target IP address or hostname:  scanme.nmap.org\n"
     ]
    },
    {
     "name": "stdout",
     "output_type": "stream",
     "text": [
      "----------------------------------------------------\n",
      "Host : 45.33.32.156 (scanme.nmap.org)\n",
      "State : up\n",
      "----------\n",
      "Protocol : tcp\n",
      "port : 22\tstate :open\tservice :ssh\tversion :OpenSSH 6.6.1p1 Ubuntu 2ubuntu2.13\n",
      "port : 80\tstate :open\tservice :http\tversion : \n",
      "port : 139\tstate :filtered\tservice :netbios-ssn\tversion : \n",
      "port : 445\tstate :filtered\tservice :microsoft-ds\tversion : \n",
      "port : 9929\tstate :open\tservice :nping-echo\tversion :Nping echo \n",
      "port : 31337\tstate :open\tservice :tcpwrapped\tversion : \n"
     ]
    }
   ],
   "source": [
    "import nmap\n",
    "\n",
    "def nmap_version_scan(target):\n",
    "    nm = nmap.PortScanner()\n",
    "    nm.scan(hosts=target, arguments='-sV') # -sV for version detection\n",
    "    for host in nm.all_hosts():\n",
    "        print('----------------------------------------------------')\n",
    "        print(f'Host : {host} ({nm[host].hostname()})')\n",
    "        print('State : %s' % nm[host].state())\n",
    "        for proto in nm[host].all_protocols():\n",
    "            print('----------')\n",
    "            print(f'Protocol : {proto}')\n",
    "            lport = nm[host][proto].keys()\n",
    "            sorted_ports = sorted(lport)\n",
    "            for port in sorted_ports:\n",
    "                print(f'port : {port}\\tstate :{nm[host][proto][port][\"state\"]}\\tservice :{nm[host][proto][port][\"name\"]}\\tversion :{nm[host][proto][port][\"product\"]} {nm[host][proto][port][\"version\"]}')\n",
    "if __name__ == \"__main__\":\n",
    "    target = input(\"Enter target IP address or hostname: \")\n",
    "    nmap_version_scan(target)"
   ]
  },
  {
   "cell_type": "markdown",
   "id": "ebccbda3-5323-4493-bda8-84135058902b",
   "metadata": {},
   "source": [
    "## 8. Write the Python NMAP script to perform aggressive scanning."
   ]
  },
  {
   "cell_type": "code",
   "execution_count": 4,
   "id": "283ec9d8-3e87-4ff9-bd05-a9e80f16dbd5",
   "metadata": {},
   "outputs": [
    {
     "name": "stdin",
     "output_type": "stream",
     "text": [
      "Enter target IP address or hostname:  scanme.nmap.org\n"
     ]
    },
    {
     "name": "stdout",
     "output_type": "stream",
     "text": [
      "----------------------------------------------------\n",
      "Host : 45.33.32.156 (scanme.nmap.org)\n",
      "State : up\n",
      "----------\n",
      "Protocol : tcp\n",
      "port : 22\tstate :open\tservice : ssh\n",
      "port : 80\tstate :open\tservice : http\n",
      "port : 139\tstate :filtered\tservice : netbios-ssn\n",
      "port : 445\tstate :filtered\tservice : microsoft-ds\n",
      "port : 9929\tstate :open\tservice : nping-echo\n",
      "port : 31337\tstate :open\tservice : tcpwrapped\n",
      "\n",
      "OS details:\n",
      "Name:      Linux 4.19 - 5.15\n",
      "Accuracy:  98\n",
      "OS gen:    N/A\n",
      "Vendor:    N/A\n",
      "\n",
      "Name:      Linux 2.6.32\n",
      "Accuracy:  94\n",
      "OS gen:    N/A\n",
      "Vendor:    N/A\n",
      "\n",
      "Name:      Linux 2.6.32 or 3.10\n",
      "Accuracy:  94\n",
      "OS gen:    N/A\n",
      "Vendor:    N/A\n",
      "\n",
      "Name:      Linux 4.0 - 4.4\n",
      "Accuracy:  94\n",
      "OS gen:    N/A\n",
      "Vendor:    N/A\n",
      "\n",
      "Name:      Linux 4.15\n",
      "Accuracy:  94\n",
      "OS gen:    N/A\n",
      "Vendor:    N/A\n",
      "\n",
      "Name:      Linux 5.4\n",
      "Accuracy:  94\n",
      "OS gen:    N/A\n",
      "Vendor:    N/A\n",
      "\n",
      "Name:      IPFire 2.27 (Linux 5.15 - 6.1)\n",
      "Accuracy:  94\n",
      "OS gen:    N/A\n",
      "Vendor:    N/A\n",
      "\n",
      "Name:      Linux 2.6.32 - 2.6.35\n",
      "Accuracy:  92\n",
      "OS gen:    N/A\n",
      "Vendor:    N/A\n",
      "\n",
      "Name:      Linux 2.6.32 - 2.6.39\n",
      "Accuracy:  92\n",
      "OS gen:    N/A\n",
      "Vendor:    N/A\n",
      "\n",
      "Name:      Linux 2.6.32 - 3.0\n",
      "Accuracy:  91\n",
      "OS gen:    N/A\n",
      "Vendor:    N/A\n",
      "\n"
     ]
    }
   ],
   "source": [
    "import nmap\n",
    "\n",
    "def comprehensive_nmap_scan(target):\n",
    "    nm = nmap.PortScanner()\n",
    "    nm.scan(hosts=target, arguments='-A') # -A for aggressive scan\n",
    "    for host in nm.all_hosts():\n",
    "        print('----------------------------------------------------')\n",
    "        print(f'Host : {host} ({nm[host].hostname()})')\n",
    "        print('State : %s' % nm[host].state())\n",
    "        for proto in nm[host].all_protocols():\n",
    "            print('----------')\n",
    "            print(f'Protocol : {proto}')\n",
    "            lport = nm[host][proto].keys()\n",
    "            sorted_ports = sorted(lport)\n",
    "            for port in sorted_ports:\n",
    "                print(f'port : {port}\\tstate :{nm[host][proto][port][\"state\"]}\\tservice : {nm[host][proto][port][\"name\"]}')\n",
    "        if 'osmatch' in nm[host]:\n",
    "            print('\\nOS details:')\n",
    "            for osclass in nm[host]['osmatch']:\n",
    "                print(f\"{'Name:':<10} {osclass['name']}\")\n",
    "                print(f\"{'Accuracy:':<10} {osclass['accuracy']}\")\n",
    "                print(f\"{'OS gen:':<10} {osclass.get('osgen', 'N/A')}\")\n",
    "                print(f\"{'Vendor:':<10} {osclass.get('vendor', 'N/A')}\")\n",
    "                print()\n",
    "if __name__ == \"__main__\":\n",
    "    target = input(\"Enter target IP address or hostname: \")\n",
    "    comprehensive_nmap_scan(target)"
   ]
  },
  {
   "cell_type": "markdown",
   "id": "dad84d86-f741-497f-97c3-bc079b1a26cd",
   "metadata": {},
   "source": [
    "## 9. Write the Python NMAP script to determine the operating system of the target host.\n"
   ]
  },
  {
   "cell_type": "code",
   "execution_count": 5,
   "id": "9f3fbcbe-b614-4e01-a85e-009415284aba",
   "metadata": {},
   "outputs": [
    {
     "name": "stdin",
     "output_type": "stream",
     "text": [
      "Enter target IP address or hostname:  scanme.nmap.org\n"
     ]
    },
    {
     "name": "stdout",
     "output_type": "stream",
     "text": [
      "----------------------------------------------------\n",
      "Host : 45.33.32.156 (scanme.nmap.org)\n",
      "State : up\n",
      "No OS detection results available for this host.\n"
     ]
    }
   ],
   "source": [
    "import nmap\n",
    "def os_detection_scan(target):\n",
    "    nm = nmap.PortScanner()\n",
    "    nm.scan(hosts=target, arguments='-O') # -O for OS detection\n",
    "    for host in nm.all_hosts():\n",
    "        print('----------------------------------------------------')\n",
    "        print(f'Host : {host} ({nm[host].hostname()})')\n",
    "        print('State : %s' % nm[host].state())\n",
    "        if 'osclass' in nm[host]:\n",
    "            print('Operating System Guesses:')\n",
    "            for osclass in nm[host]['osclass']:\n",
    "                print(f' {osclass[\"osfamily\"]} - {osclass[\"osgen\"]}')\n",
    "        else:\n",
    "            print('No OS detection results available for this host.')\n",
    "if __name__ == \"__main__\":\n",
    "    target = input(\"Enter target IP address or hostname: \")\n",
    "    os_detection_scan(target)"
   ]
  },
  {
   "cell_type": "markdown",
   "id": "2f798eb3-c60a-4630-9000-95f71abdd3a9",
   "metadata": {},
   "source": [
    "## 10.Write the Python NMAP script to save the results of the nmap scan report in normal format to a text file.\n"
   ]
  },
  {
   "cell_type": "code",
   "execution_count": 9,
   "id": "88418459-c875-4042-9c25-43590bd70526",
   "metadata": {},
   "outputs": [
    {
     "name": "stdin",
     "output_type": "stream",
     "text": [
      "Enter target IP address or hostname:  scanme.nmap.org\n",
      "Enter output file name (e.g., output.txt):  report.txt\n"
     ]
    }
   ],
   "source": [
    "import nmap\n",
    "def nmap_scan_output_to_file(target, output_file):\n",
    "    nm = nmap.PortScanner()\n",
    "    nm.scan(hosts=target, arguments='-oN {}'.format(output_file))\n",
    "if __name__ == \"__main__\":\n",
    "    target = input(\"Enter target IP address or hostname: \")\n",
    "    output_file = input(\"Enter output file name (e.g., output.txt): \")\n",
    "    nmap_scan_output_to_file(target, output_file)"
   ]
  },
  {
   "cell_type": "markdown",
   "id": "f0f7200d-5318-447e-bacd-f99b9294a924",
   "metadata": {},
   "source": [
    "## 11.Write the Python NMAP script to save the results in all formats."
   ]
  },
  {
   "cell_type": "code",
   "execution_count": 13,
   "id": "7549d5cf-cae4-4bf3-a4bf-df15fbc03943",
   "metadata": {},
   "outputs": [
    {
     "name": "stdin",
     "output_type": "stream",
     "text": [
      "Enter target IP address or hostname:  scanme.nmap.org\n"
     ]
    },
    {
     "name": "stdout",
     "output_type": "stream",
     "text": [
      "Nmap scan results saved to: \n",
      "  - Normal: scan_results.nmap \n",
      "  - XML: scan_results.xml \n",
      "  - Grepable: scan_results.gnmap\n"
     ]
    }
   ],
   "source": [
    "import subprocess\n",
    "\n",
    "def save_nmap_all_formats(target, filename):\n",
    " \n",
    "  normal_file = f\"{filename}.nmap\"\n",
    "  xml_file = f\"{filename}.xml\"\n",
    "  grepable_file = f\"{filename}.gnmap\"\n",
    "\n",
    "  normal_scan = f\"nmap -oN {normal_file} {target}\"\n",
    "  xml_scan = f\"nmap -oX {xml_file} {target}\"\n",
    "  grepable_scan = f\"nmap -oG {grepable_file} {target}\"\n",
    "\n",
    "  subprocess.run(normal_scan.split(), check=True)\n",
    "  subprocess.run(xml_scan.split(), check=True)\n",
    "  subprocess.run(grepable_scan.split(), check=True)\n",
    "\n",
    "  print(f\"Nmap scan results saved to: \\n  - Normal: {normal_file} \\n  - XML: {xml_file} \\n  - Grepable: {grepable_file}\")\n",
    "\n",
    "# Example usage\n",
    "target = input(\"Enter target IP address or hostname: \")\n",
    "output_filename = \"scan_results\"\n",
    "\n",
    "save_nmap_all_formats(target, output_filename)\n"
   ]
  }
 ],
 "metadata": {
  "kernelspec": {
   "display_name": "Python 3 (ipykernel)",
   "language": "python",
   "name": "python3"
  },
  "language_info": {
   "codemirror_mode": {
    "name": "ipython",
    "version": 3
   },
   "file_extension": ".py",
   "mimetype": "text/x-python",
   "name": "python",
   "nbconvert_exporter": "python",
   "pygments_lexer": "ipython3",
   "version": "3.11.5"
  }
 },
 "nbformat": 4,
 "nbformat_minor": 5
}
